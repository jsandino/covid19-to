{
  "cells": [
    {
      "cell_type": "markdown",
      "metadata": {
        "colab_type": "text",
        "id": "view-in-github"
      },
      "source": [
        "<a href=\"https://colab.research.google.com/github/jsandino/covid19-to/blob/main/covid19_to.ipynb\" target=\"_parent\"><img src=\"https://colab.research.google.com/assets/colab-badge.svg\" alt=\"Open In Colab\"/></a>"
      ]
    },
    {
      "cell_type": "markdown",
      "metadata": {
        "id": "qxWpIWmsDNrh"
      },
      "source": [
        "## Ingest\n",
        "\n",
        "For the *Ingest* phase, load the covid-19 data table as published by  Toronto Public Health."
      ]
    },
    {
      "cell_type": "code",
      "execution_count": 1,
      "metadata": {
        "id": "99IAan5WCnMA"
      },
      "outputs": [],
      "source": [
        "import pandas as pd\n",
        "import numpy as np\n",
        "import matplotlib.pyplot as plt\n",
        "\n",
        "import random\n",
        "random.seed(10)"
      ]
    },
    {
      "cell_type": "code",
      "execution_count": 2,
      "metadata": {
        "id": "ln-MzBvFyf9P"
      },
      "outputs": [],
      "source": [
        "import warnings\n",
        "\n",
        "warnings.filterwarnings(\"ignore\")"
      ]
    },
    {
      "cell_type": "code",
      "execution_count": 3,
      "metadata": {
        "colab": {
          "base_uri": "https://localhost:8080/",
          "height": 310
        },
        "id": "1VPZeSeZFQGA",
        "outputId": "56e7e445-d8fe-4734-dcad-659b92e0994b"
      },
      "outputs": [
        {
          "data": {
            "text/html": [
              "<div>\n",
              "<style scoped>\n",
              "    .dataframe tbody tr th:only-of-type {\n",
              "        vertical-align: middle;\n",
              "    }\n",
              "\n",
              "    .dataframe tbody tr th {\n",
              "        vertical-align: top;\n",
              "    }\n",
              "\n",
              "    .dataframe thead th {\n",
              "        text-align: right;\n",
              "    }\n",
              "</style>\n",
              "<table border=\"1\" class=\"dataframe\">\n",
              "  <thead>\n",
              "    <tr style=\"text-align: right;\">\n",
              "      <th></th>\n",
              "      <th>_id</th>\n",
              "      <th>Assigned_ID</th>\n",
              "      <th>Outbreak Associated</th>\n",
              "      <th>Age Group</th>\n",
              "      <th>Neighbourhood Name</th>\n",
              "      <th>FSA</th>\n",
              "      <th>Source of Infection</th>\n",
              "      <th>Classification</th>\n",
              "      <th>Episode Date</th>\n",
              "      <th>Reported Date</th>\n",
              "      <th>Client Gender</th>\n",
              "      <th>Outcome</th>\n",
              "      <th>Ever Hospitalized</th>\n",
              "      <th>Ever in ICU</th>\n",
              "      <th>Ever Intubated</th>\n",
              "    </tr>\n",
              "  </thead>\n",
              "  <tbody>\n",
              "    <tr>\n",
              "      <th>0</th>\n",
              "      <td>1</td>\n",
              "      <td>1</td>\n",
              "      <td>NO</td>\n",
              "      <td>50 to 59 Years</td>\n",
              "      <td>Willowdale East</td>\n",
              "      <td>M2N</td>\n",
              "      <td>Travel</td>\n",
              "      <td>CONFIRMED</td>\n",
              "      <td>2020-01-22</td>\n",
              "      <td>2020-01-23</td>\n",
              "      <td>FEMALE</td>\n",
              "      <td>RESOLVED</td>\n",
              "      <td>No</td>\n",
              "      <td>No</td>\n",
              "      <td>No</td>\n",
              "    </tr>\n",
              "    <tr>\n",
              "      <th>1</th>\n",
              "      <td>2</td>\n",
              "      <td>2</td>\n",
              "      <td>NO</td>\n",
              "      <td>50 to 59 Years</td>\n",
              "      <td>Willowdale East</td>\n",
              "      <td>M2N</td>\n",
              "      <td>Travel</td>\n",
              "      <td>CONFIRMED</td>\n",
              "      <td>2020-01-21</td>\n",
              "      <td>2020-01-23</td>\n",
              "      <td>MALE</td>\n",
              "      <td>RESOLVED</td>\n",
              "      <td>Yes</td>\n",
              "      <td>No</td>\n",
              "      <td>No</td>\n",
              "    </tr>\n",
              "    <tr>\n",
              "      <th>2</th>\n",
              "      <td>3</td>\n",
              "      <td>3</td>\n",
              "      <td>NO</td>\n",
              "      <td>20 to 29 Years</td>\n",
              "      <td>Parkwoods-Donalda</td>\n",
              "      <td>M3A</td>\n",
              "      <td>Travel</td>\n",
              "      <td>CONFIRMED</td>\n",
              "      <td>2020-02-05</td>\n",
              "      <td>2020-02-21</td>\n",
              "      <td>FEMALE</td>\n",
              "      <td>RESOLVED</td>\n",
              "      <td>No</td>\n",
              "      <td>No</td>\n",
              "      <td>No</td>\n",
              "    </tr>\n",
              "    <tr>\n",
              "      <th>3</th>\n",
              "      <td>4</td>\n",
              "      <td>4</td>\n",
              "      <td>NO</td>\n",
              "      <td>60 to 69 Years</td>\n",
              "      <td>Church-Yonge Corridor</td>\n",
              "      <td>M4W</td>\n",
              "      <td>Travel</td>\n",
              "      <td>CONFIRMED</td>\n",
              "      <td>2020-02-16</td>\n",
              "      <td>2020-02-25</td>\n",
              "      <td>FEMALE</td>\n",
              "      <td>RESOLVED</td>\n",
              "      <td>No</td>\n",
              "      <td>No</td>\n",
              "      <td>No</td>\n",
              "    </tr>\n",
              "    <tr>\n",
              "      <th>4</th>\n",
              "      <td>5</td>\n",
              "      <td>5</td>\n",
              "      <td>NO</td>\n",
              "      <td>60 to 69 Years</td>\n",
              "      <td>Church-Yonge Corridor</td>\n",
              "      <td>M4W</td>\n",
              "      <td>Travel</td>\n",
              "      <td>CONFIRMED</td>\n",
              "      <td>2020-02-20</td>\n",
              "      <td>2020-02-26</td>\n",
              "      <td>MALE</td>\n",
              "      <td>RESOLVED</td>\n",
              "      <td>No</td>\n",
              "      <td>No</td>\n",
              "      <td>No</td>\n",
              "    </tr>\n",
              "  </tbody>\n",
              "</table>\n",
              "</div>"
            ],
            "text/plain": [
              "   _id  Assigned_ID Outbreak Associated       Age Group  \\\n",
              "0    1            1                  NO  50 to 59 Years   \n",
              "1    2            2                  NO  50 to 59 Years   \n",
              "2    3            3                  NO  20 to 29 Years   \n",
              "3    4            4                  NO  60 to 69 Years   \n",
              "4    5            5                  NO  60 to 69 Years   \n",
              "\n",
              "      Neighbourhood Name  FSA Source of Infection Classification Episode Date  \\\n",
              "0        Willowdale East  M2N              Travel      CONFIRMED   2020-01-22   \n",
              "1        Willowdale East  M2N              Travel      CONFIRMED   2020-01-21   \n",
              "2      Parkwoods-Donalda  M3A              Travel      CONFIRMED   2020-02-05   \n",
              "3  Church-Yonge Corridor  M4W              Travel      CONFIRMED   2020-02-16   \n",
              "4  Church-Yonge Corridor  M4W              Travel      CONFIRMED   2020-02-20   \n",
              "\n",
              "  Reported Date Client Gender   Outcome Ever Hospitalized Ever in ICU  \\\n",
              "0    2020-01-23        FEMALE  RESOLVED                No          No   \n",
              "1    2020-01-23          MALE  RESOLVED               Yes          No   \n",
              "2    2020-02-21        FEMALE  RESOLVED                No          No   \n",
              "3    2020-02-25        FEMALE  RESOLVED                No          No   \n",
              "4    2020-02-26          MALE  RESOLVED                No          No   \n",
              "\n",
              "  Ever Intubated  \n",
              "0             No  \n",
              "1             No  \n",
              "2             No  \n",
              "3             No  \n",
              "4             No  "
            ]
          },
          "execution_count": 3,
          "metadata": {},
          "output_type": "execute_result"
        }
      ],
      "source": [
        "# Load covid-19 data from Toronto Public Health\n",
        "df = pd.read_csv(\"https://ckan0.cf.opendata.inter.prod-toronto.ca/dataset/64b54586-6180-4485-83eb-81e8fae3b8fe/resource/fff4ee65-3527-43be-9a8a-cb9401377dbc/download/COVID19%20cases.csv\")\n",
        "\n",
        "df.head()"
      ]
    },
    {
      "cell_type": "code",
      "execution_count": 4,
      "metadata": {
        "colab": {
          "base_uri": "https://localhost:8080/"
        },
        "id": "95d8_evFEZ4D",
        "outputId": "9a49f5db-721a-4237-f261-80201f8c1869"
      },
      "outputs": [
        {
          "name": "stdout",
          "output_type": "stream",
          "text": [
            "<class 'pandas.core.frame.DataFrame'>\n",
            "RangeIndex: 414830 entries, 0 to 414829\n",
            "Data columns (total 15 columns):\n",
            " #   Column               Non-Null Count   Dtype \n",
            "---  ------               --------------   ----- \n",
            " 0   _id                  414830 non-null  int64 \n",
            " 1   Assigned_ID          414830 non-null  int64 \n",
            " 2   Outbreak Associated  414830 non-null  object\n",
            " 3   Age Group            414408 non-null  object\n",
            " 4   Neighbourhood Name   401131 non-null  object\n",
            " 5   FSA                  406602 non-null  object\n",
            " 6   Source of Infection  414830 non-null  object\n",
            " 7   Classification       414830 non-null  object\n",
            " 8   Episode Date         414830 non-null  object\n",
            " 9   Reported Date        414830 non-null  object\n",
            " 10  Client Gender        414830 non-null  object\n",
            " 11  Outcome              414830 non-null  object\n",
            " 12  Ever Hospitalized    414830 non-null  object\n",
            " 13  Ever in ICU          414830 non-null  object\n",
            " 14  Ever Intubated       414830 non-null  object\n",
            "dtypes: int64(2), object(13)\n",
            "memory usage: 47.5+ MB\n"
          ]
        }
      ],
      "source": [
        "df.info()"
      ]
    },
    {
      "cell_type": "code",
      "execution_count": 5,
      "metadata": {
        "colab": {
          "base_uri": "https://localhost:8080/",
          "height": 300
        },
        "id": "ZtH3uUftEkJG",
        "outputId": "456ff587-2541-4f87-8055-c82001f3e194"
      },
      "outputs": [
        {
          "data": {
            "text/html": [
              "<div>\n",
              "<style scoped>\n",
              "    .dataframe tbody tr th:only-of-type {\n",
              "        vertical-align: middle;\n",
              "    }\n",
              "\n",
              "    .dataframe tbody tr th {\n",
              "        vertical-align: top;\n",
              "    }\n",
              "\n",
              "    .dataframe thead th {\n",
              "        text-align: right;\n",
              "    }\n",
              "</style>\n",
              "<table border=\"1\" class=\"dataframe\">\n",
              "  <thead>\n",
              "    <tr style=\"text-align: right;\">\n",
              "      <th></th>\n",
              "      <th>_id</th>\n",
              "      <th>Assigned_ID</th>\n",
              "    </tr>\n",
              "  </thead>\n",
              "  <tbody>\n",
              "    <tr>\n",
              "      <th>count</th>\n",
              "      <td>414830.000000</td>\n",
              "      <td>414830.000000</td>\n",
              "    </tr>\n",
              "    <tr>\n",
              "      <th>mean</th>\n",
              "      <td>207415.500000</td>\n",
              "      <td>213965.461681</td>\n",
              "    </tr>\n",
              "    <tr>\n",
              "      <th>std</th>\n",
              "      <td>119751.250421</td>\n",
              "      <td>122936.270595</td>\n",
              "    </tr>\n",
              "    <tr>\n",
              "      <th>min</th>\n",
              "      <td>1.000000</td>\n",
              "      <td>1.000000</td>\n",
              "    </tr>\n",
              "    <tr>\n",
              "      <th>25%</th>\n",
              "      <td>103708.250000</td>\n",
              "      <td>108021.250000</td>\n",
              "    </tr>\n",
              "    <tr>\n",
              "      <th>50%</th>\n",
              "      <td>207415.500000</td>\n",
              "      <td>214326.500000</td>\n",
              "    </tr>\n",
              "    <tr>\n",
              "      <th>75%</th>\n",
              "      <td>311122.750000</td>\n",
              "      <td>320157.750000</td>\n",
              "    </tr>\n",
              "    <tr>\n",
              "      <th>max</th>\n",
              "      <td>414830.000000</td>\n",
              "      <td>426683.000000</td>\n",
              "    </tr>\n",
              "  </tbody>\n",
              "</table>\n",
              "</div>"
            ],
            "text/plain": [
              "                 _id    Assigned_ID\n",
              "count  414830.000000  414830.000000\n",
              "mean   207415.500000  213965.461681\n",
              "std    119751.250421  122936.270595\n",
              "min         1.000000       1.000000\n",
              "25%    103708.250000  108021.250000\n",
              "50%    207415.500000  214326.500000\n",
              "75%    311122.750000  320157.750000\n",
              "max    414830.000000  426683.000000"
            ]
          },
          "execution_count": 5,
          "metadata": {},
          "output_type": "execute_result"
        }
      ],
      "source": [
        "df.describe()"
      ]
    },
    {
      "cell_type": "markdown",
      "metadata": {
        "id": "cqJhdeggDLdY"
      },
      "source": [
        "## EDA\n",
        "\n",
        "In the *Exploratory Data Analysis* phase, it is desirable to understand the structure of the data.  This will allow the preparation of a subset to be used to construct the model."
      ]
    },
    {
      "cell_type": "code",
      "execution_count": 6,
      "metadata": {
        "id": "Q28nB2aMDO-i"
      },
      "outputs": [],
      "source": [
        "import datetime\n",
        "import re"
      ]
    },
    {
      "cell_type": "markdown",
      "metadata": {
        "id": "BKyWVayJRDFY"
      },
      "source": [
        "### Filter and prepare data of interest\n",
        "\n",
        "\n",
        "---\n",
        "\n",
        "\n",
        "\n",
        "**Episode Date**\n",
        "\n",
        "Start by adding a *Recency* column derived from the episode date.  In this context, recency refers to the number of days from when the episode was identified to the present date (ie. high recency corresponds to older cases dating back to early 2021)"
      ]
    },
    {
      "cell_type": "code",
      "execution_count": 7,
      "metadata": {
        "colab": {
          "base_uri": "https://localhost:8080/",
          "height": 206
        },
        "id": "gvB9c3nQRBL3",
        "outputId": "5ad87f3b-8285-4142-bd7f-1f5ddc7f6afb"
      },
      "outputs": [
        {
          "data": {
            "text/html": [
              "<div>\n",
              "<style scoped>\n",
              "    .dataframe tbody tr th:only-of-type {\n",
              "        vertical-align: middle;\n",
              "    }\n",
              "\n",
              "    .dataframe tbody tr th {\n",
              "        vertical-align: top;\n",
              "    }\n",
              "\n",
              "    .dataframe thead th {\n",
              "        text-align: right;\n",
              "    }\n",
              "</style>\n",
              "<table border=\"1\" class=\"dataframe\">\n",
              "  <thead>\n",
              "    <tr style=\"text-align: right;\">\n",
              "      <th></th>\n",
              "      <th>Episode Date</th>\n",
              "      <th>Recency</th>\n",
              "    </tr>\n",
              "  </thead>\n",
              "  <tbody>\n",
              "    <tr>\n",
              "      <th>0</th>\n",
              "      <td>2020-01-22</td>\n",
              "      <td>1701</td>\n",
              "    </tr>\n",
              "    <tr>\n",
              "      <th>1</th>\n",
              "      <td>2020-01-21</td>\n",
              "      <td>1702</td>\n",
              "    </tr>\n",
              "    <tr>\n",
              "      <th>2</th>\n",
              "      <td>2020-02-05</td>\n",
              "      <td>1687</td>\n",
              "    </tr>\n",
              "    <tr>\n",
              "      <th>3</th>\n",
              "      <td>2020-02-16</td>\n",
              "      <td>1676</td>\n",
              "    </tr>\n",
              "    <tr>\n",
              "      <th>4</th>\n",
              "      <td>2020-02-20</td>\n",
              "      <td>1672</td>\n",
              "    </tr>\n",
              "  </tbody>\n",
              "</table>\n",
              "</div>"
            ],
            "text/plain": [
              "  Episode Date  Recency\n",
              "0   2020-01-22     1701\n",
              "1   2020-01-21     1702\n",
              "2   2020-02-05     1687\n",
              "3   2020-02-16     1676\n",
              "4   2020-02-20     1672"
            ]
          },
          "execution_count": 7,
          "metadata": {},
          "output_type": "execute_result"
        }
      ],
      "source": [
        "case_df = df.copy()\n",
        "\n",
        "def recency_from(val) -> int:\n",
        "    result = re.search(r'\\d{4}-\\d{2}-\\d{2}', str(val))\n",
        "    episode_date = datetime.date.fromisoformat(result[0])\n",
        "    return (datetime.date.today() - episode_date).days\n",
        "\n",
        "case_df[\"Recency\"] = case_df[\"Episode Date\"].map(recency_from)\n",
        "case_df[[\"Episode Date\", \"Recency\"]].head()"
      ]
    },
    {
      "cell_type": "markdown",
      "metadata": {
        "id": "EDQNwTb91fi3"
      },
      "source": [
        "\n",
        "\n",
        "---\n",
        "\n",
        "\n",
        "**Age Group**\n",
        "\n",
        "Remap *Age Group* to a numeric representation; each number representing an age group in ascending order:"
      ]
    },
    {
      "cell_type": "code",
      "execution_count": 8,
      "metadata": {
        "colab": {
          "base_uri": "https://localhost:8080/"
        },
        "id": "k7Ppo5vy5C5W",
        "outputId": "4e0ba99b-9e6a-49dd-8bd1-d1eeccf6057f"
      },
      "outputs": [
        {
          "name": "stdout",
          "output_type": "stream",
          "text": [
            "{'19 and younger': 0, '20 to 29 Years': 1, '30 to 39 Years': 2, '40 to 49 Years': 3, '50 to 59 Years': 4, '60 to 69 Years': 5, '70 to 79 Years': 6, '80 to 89 Years': 7, '90 and older': 8}\n"
          ]
        }
      ],
      "source": [
        "# Represent *Age Group* as a number, by concatenating age limits:\n",
        "#\n",
        "# def encode_ages(val) -> int:\n",
        "#   match = re.search(r\"(\\d+)\\s*(?:to|and)\\s*(\\d+)?\", str(val))\n",
        "#   if match:\n",
        "#     low_bound = match[1]\n",
        "#     hi_bound = match[2] if match[2] else 0\n",
        "#     result = int(f'{low_bound}{hi_bound}')\n",
        "#     # Adjust result for cases where only a low bound is present\n",
        "#     return result if hi_bound else result * 10\n",
        "\n",
        "#   return float('nan')\n",
        "\n",
        "# case_df[\"Ages\"] = case_df[\"Age Group\"].map(encode_ages)\n",
        "# case_df[[\"Age Group\", \"Ages\"]].head()\n",
        "\n",
        "age_mapping = {k:v for v, k in enumerate(case_df.sort_values([\"Age Group\"])[\"Age Group\"].unique()) if not pd.isna(k)}\n",
        "case_df[\"Ages\"] = case_df[\"Age Group\"].map(age_mapping)\n",
        "case_df[[\"Age Group\", \"Ages\"]].head()\n",
        "\n",
        "print(age_mapping)\n"
      ]
    },
    {
      "cell_type": "markdown",
      "metadata": {
        "id": "tcbXrm49lqC8"
      },
      "source": [
        "Clean up the *Ages* column by dropping any NA values:"
      ]
    },
    {
      "cell_type": "code",
      "execution_count": 9,
      "metadata": {
        "colab": {
          "base_uri": "https://localhost:8080/"
        },
        "id": "ctxpomxElvdd",
        "outputId": "c243a322-ab39-4019-81a4-e31630633b27"
      },
      "outputs": [
        {
          "name": "stdout",
          "output_type": "stream",
          "text": [
            "Ages with NA values (before): 422\n",
            "Ages with NA values (after): 0\n"
          ]
        }
      ],
      "source": [
        "# case_df.info()\n",
        "ages_nan_count = case_df[\"Ages\"].isna().sum()\n",
        "print(f'Ages with NA values (before): {ages_nan_count}')\n",
        "\n",
        "case_df.dropna(inplace=True)\n",
        "\n",
        "ages_nan_count = case_df[\"Ages\"].isna().sum()\n",
        "print(f'Ages with NA values (after): {ages_nan_count}')"
      ]
    },
    {
      "cell_type": "markdown",
      "metadata": {
        "id": "qJxI-VToLCpb"
      },
      "source": [
        "\n",
        "\n",
        "---\n",
        "\n",
        "**Client Gender**\n",
        "\n",
        "Remap *Gender* values to a numeric representation:"
      ]
    },
    {
      "cell_type": "code",
      "execution_count": 10,
      "metadata": {
        "colab": {
          "base_uri": "https://localhost:8080/",
          "height": 206
        },
        "id": "Dizsp-3qLMzf",
        "outputId": "6f7ade03-8bc2-422e-e53d-4af5d036ee5e"
      },
      "outputs": [
        {
          "data": {
            "text/html": [
              "<div>\n",
              "<style scoped>\n",
              "    .dataframe tbody tr th:only-of-type {\n",
              "        vertical-align: middle;\n",
              "    }\n",
              "\n",
              "    .dataframe tbody tr th {\n",
              "        vertical-align: top;\n",
              "    }\n",
              "\n",
              "    .dataframe thead th {\n",
              "        text-align: right;\n",
              "    }\n",
              "</style>\n",
              "<table border=\"1\" class=\"dataframe\">\n",
              "  <thead>\n",
              "    <tr style=\"text-align: right;\">\n",
              "      <th></th>\n",
              "      <th>Client Gender</th>\n",
              "      <th>Gender</th>\n",
              "    </tr>\n",
              "  </thead>\n",
              "  <tbody>\n",
              "    <tr>\n",
              "      <th>0</th>\n",
              "      <td>FEMALE</td>\n",
              "      <td>0</td>\n",
              "    </tr>\n",
              "    <tr>\n",
              "      <th>1</th>\n",
              "      <td>MALE</td>\n",
              "      <td>1</td>\n",
              "    </tr>\n",
              "    <tr>\n",
              "      <th>2</th>\n",
              "      <td>FEMALE</td>\n",
              "      <td>0</td>\n",
              "    </tr>\n",
              "    <tr>\n",
              "      <th>3</th>\n",
              "      <td>FEMALE</td>\n",
              "      <td>0</td>\n",
              "    </tr>\n",
              "    <tr>\n",
              "      <th>4</th>\n",
              "      <td>MALE</td>\n",
              "      <td>1</td>\n",
              "    </tr>\n",
              "  </tbody>\n",
              "</table>\n",
              "</div>"
            ],
            "text/plain": [
              "  Client Gender  Gender\n",
              "0        FEMALE       0\n",
              "1          MALE       1\n",
              "2        FEMALE       0\n",
              "3        FEMALE       0\n",
              "4          MALE       1"
            ]
          },
          "execution_count": 10,
          "metadata": {},
          "output_type": "execute_result"
        }
      ],
      "source": [
        "gender_mapping = {k:v for v, k in enumerate(case_df[\"Client Gender\"].unique())}\n",
        "\n",
        "case_df[\"Gender\"] = case_df[\"Client Gender\"].map(gender_mapping)\n",
        "case_df[[\"Client Gender\", \"Gender\"]].head()"
      ]
    },
    {
      "cell_type": "markdown",
      "metadata": {
        "id": "ChRJfL11su_5"
      },
      "source": [
        "\n",
        "\n",
        "---\n",
        "\n",
        "**Outcome**\n",
        "\n",
        "Remap *Outcome* to a numeric representation:\n"
      ]
    },
    {
      "cell_type": "code",
      "execution_count": 11,
      "metadata": {
        "colab": {
          "base_uri": "https://localhost:8080/",
          "height": 259
        },
        "id": "llYZdUmus9pt",
        "outputId": "7eec2c1e-03a0-49bc-ceee-086fa355d166"
      },
      "outputs": [
        {
          "name": "stdout",
          "output_type": "stream",
          "text": [
            "{'RESOLVED': 0, 'FATAL': 1, 'ACTIVE': 2}\n"
          ]
        },
        {
          "data": {
            "text/plain": [
              "0    0\n",
              "1    0\n",
              "2    0\n",
              "3    0\n",
              "4    0\n",
              "Name: Outcome, dtype: int64"
            ]
          },
          "execution_count": 11,
          "metadata": {},
          "output_type": "execute_result"
        }
      ],
      "source": [
        "outcome_mapping = {k:v for v, k in enumerate(case_df[\"Outcome\"].unique())}\n",
        "print(outcome_mapping)\n",
        "\n",
        "case_df[\"Outcome\"] = case_df[\"Outcome\"].map(outcome_mapping)\n",
        "case_df[\"Outcome\"].head()"
      ]
    },
    {
      "cell_type": "markdown",
      "metadata": {
        "id": "-4-kuJ3a1MvB"
      },
      "source": [
        "\n",
        "\n",
        "---\n",
        "\n",
        "**Parameter Selection**\n",
        "\n",
        "Select only the columns of interest:\n"
      ]
    },
    {
      "cell_type": "code",
      "execution_count": 12,
      "metadata": {
        "colab": {
          "base_uri": "https://localhost:8080/",
          "height": 206
        },
        "id": "SlF_6L_11YuF",
        "outputId": "dceeacc3-f4bf-4b93-d6e4-e66491909343"
      },
      "outputs": [
        {
          "data": {
            "text/html": [
              "<div>\n",
              "<style scoped>\n",
              "    .dataframe tbody tr th:only-of-type {\n",
              "        vertical-align: middle;\n",
              "    }\n",
              "\n",
              "    .dataframe tbody tr th {\n",
              "        vertical-align: top;\n",
              "    }\n",
              "\n",
              "    .dataframe thead th {\n",
              "        text-align: right;\n",
              "    }\n",
              "</style>\n",
              "<table border=\"1\" class=\"dataframe\">\n",
              "  <thead>\n",
              "    <tr style=\"text-align: right;\">\n",
              "      <th></th>\n",
              "      <th>Recency</th>\n",
              "      <th>Ages</th>\n",
              "      <th>Gender</th>\n",
              "      <th>Outcome</th>\n",
              "    </tr>\n",
              "  </thead>\n",
              "  <tbody>\n",
              "    <tr>\n",
              "      <th>0</th>\n",
              "      <td>1701</td>\n",
              "      <td>4.0</td>\n",
              "      <td>0</td>\n",
              "      <td>0</td>\n",
              "    </tr>\n",
              "    <tr>\n",
              "      <th>1</th>\n",
              "      <td>1702</td>\n",
              "      <td>4.0</td>\n",
              "      <td>1</td>\n",
              "      <td>0</td>\n",
              "    </tr>\n",
              "    <tr>\n",
              "      <th>2</th>\n",
              "      <td>1687</td>\n",
              "      <td>1.0</td>\n",
              "      <td>0</td>\n",
              "      <td>0</td>\n",
              "    </tr>\n",
              "    <tr>\n",
              "      <th>3</th>\n",
              "      <td>1676</td>\n",
              "      <td>5.0</td>\n",
              "      <td>0</td>\n",
              "      <td>0</td>\n",
              "    </tr>\n",
              "    <tr>\n",
              "      <th>4</th>\n",
              "      <td>1672</td>\n",
              "      <td>5.0</td>\n",
              "      <td>1</td>\n",
              "      <td>0</td>\n",
              "    </tr>\n",
              "  </tbody>\n",
              "</table>\n",
              "</div>"
            ],
            "text/plain": [
              "   Recency  Ages  Gender  Outcome\n",
              "0     1701   4.0       0        0\n",
              "1     1702   4.0       1        0\n",
              "2     1687   1.0       0        0\n",
              "3     1676   5.0       0        0\n",
              "4     1672   5.0       1        0"
            ]
          },
          "execution_count": 12,
          "metadata": {},
          "output_type": "execute_result"
        }
      ],
      "source": [
        "case_df = case_df[[\"Recency\", \"Ages\", \"Gender\", \"Outcome\"]]\n",
        "case_df.head()"
      ]
    },
    {
      "cell_type": "markdown",
      "metadata": {
        "id": "iSCs6_acDDq6"
      },
      "source": [
        "## Modeling\n",
        "\n"
      ]
    },
    {
      "cell_type": "markdown",
      "metadata": {
        "id": "4lG-jBlBngJ5"
      },
      "source": [
        "### 1. Data Preparation\n",
        "\n",
        "A quick inspection of the 4 parameters in question reveals that *Recency* is significantly larger than *Ages*, *Gender* and *Outcome*.  To prevent our model from being skewed towards one set of parameters, we need to scale them:\n"
      ]
    },
    {
      "cell_type": "code",
      "execution_count": 13,
      "metadata": {
        "colab": {
          "base_uri": "https://localhost:8080/",
          "height": 206
        },
        "id": "jKzTnHIfoOHD",
        "outputId": "050c01c2-1782-432a-f8a7-35ee72e4a44f"
      },
      "outputs": [
        {
          "data": {
            "text/html": [
              "<div>\n",
              "<style scoped>\n",
              "    .dataframe tbody tr th:only-of-type {\n",
              "        vertical-align: middle;\n",
              "    }\n",
              "\n",
              "    .dataframe tbody tr th {\n",
              "        vertical-align: top;\n",
              "    }\n",
              "\n",
              "    .dataframe thead th {\n",
              "        text-align: right;\n",
              "    }\n",
              "</style>\n",
              "<table border=\"1\" class=\"dataframe\">\n",
              "  <thead>\n",
              "    <tr style=\"text-align: right;\">\n",
              "      <th></th>\n",
              "      <th>Recency</th>\n",
              "      <th>Ages</th>\n",
              "      <th>Gender</th>\n",
              "      <th>Outcome</th>\n",
              "    </tr>\n",
              "  </thead>\n",
              "  <tbody>\n",
              "    <tr>\n",
              "      <th>0</th>\n",
              "      <td>0.999326</td>\n",
              "      <td>0.500</td>\n",
              "      <td>0.000</td>\n",
              "      <td>0.0</td>\n",
              "    </tr>\n",
              "    <tr>\n",
              "      <th>1</th>\n",
              "      <td>1.000000</td>\n",
              "      <td>0.500</td>\n",
              "      <td>0.125</td>\n",
              "      <td>0.0</td>\n",
              "    </tr>\n",
              "    <tr>\n",
              "      <th>2</th>\n",
              "      <td>0.989892</td>\n",
              "      <td>0.125</td>\n",
              "      <td>0.000</td>\n",
              "      <td>0.0</td>\n",
              "    </tr>\n",
              "    <tr>\n",
              "      <th>3</th>\n",
              "      <td>0.982480</td>\n",
              "      <td>0.625</td>\n",
              "      <td>0.000</td>\n",
              "      <td>0.0</td>\n",
              "    </tr>\n",
              "    <tr>\n",
              "      <th>4</th>\n",
              "      <td>0.979784</td>\n",
              "      <td>0.625</td>\n",
              "      <td>0.125</td>\n",
              "      <td>0.0</td>\n",
              "    </tr>\n",
              "  </tbody>\n",
              "</table>\n",
              "</div>"
            ],
            "text/plain": [
              "    Recency   Ages  Gender  Outcome\n",
              "0  0.999326  0.500   0.000      0.0\n",
              "1  1.000000  0.500   0.125      0.0\n",
              "2  0.989892  0.125   0.000      0.0\n",
              "3  0.982480  0.625   0.000      0.0\n",
              "4  0.979784  0.625   0.125      0.0"
            ]
          },
          "execution_count": 13,
          "metadata": {},
          "output_type": "execute_result"
        }
      ],
      "source": [
        "from sklearn.preprocessing import MinMaxScaler\n",
        "\n",
        "scaler = MinMaxScaler()\n",
        "\n",
        "normalized_cases = scaler.fit_transform(case_df)\n",
        "norm_case_df = pd.DataFrame(normalized_cases, columns=[\"Recency\", \"Ages\", \"Gender\", \"Outcome\"])\n",
        "norm_case_df.head()"
      ]
    },
    {
      "cell_type": "markdown",
      "metadata": {
        "id": "Gt-KogrQnaRf"
      },
      "source": [
        "### 2. Preliminary Clustering"
      ]
    },
    {
      "cell_type": "code",
      "execution_count": 14,
      "metadata": {
        "colab": {
          "base_uri": "https://localhost:8080/",
          "height": 363
        },
        "id": "IqZzDP2tDYG6",
        "outputId": "5aae98eb-9686-435a-fca7-f353dbfb02e1"
      },
      "outputs": [
        {
          "data": {
            "text/html": [
              "<div>\n",
              "<style scoped>\n",
              "    .dataframe tbody tr th:only-of-type {\n",
              "        vertical-align: middle;\n",
              "    }\n",
              "\n",
              "    .dataframe tbody tr th {\n",
              "        vertical-align: top;\n",
              "    }\n",
              "\n",
              "    .dataframe thead th {\n",
              "        text-align: right;\n",
              "    }\n",
              "</style>\n",
              "<table border=\"1\" class=\"dataframe\">\n",
              "  <thead>\n",
              "    <tr style=\"text-align: right;\">\n",
              "      <th></th>\n",
              "      <th>Recency</th>\n",
              "      <th>Ages</th>\n",
              "      <th>Gender</th>\n",
              "      <th>Outcome</th>\n",
              "      <th>Cluster</th>\n",
              "    </tr>\n",
              "  </thead>\n",
              "  <tbody>\n",
              "    <tr>\n",
              "      <th>0</th>\n",
              "      <td>1701</td>\n",
              "      <td>4.0</td>\n",
              "      <td>0</td>\n",
              "      <td>0</td>\n",
              "      <td>0</td>\n",
              "    </tr>\n",
              "    <tr>\n",
              "      <th>1</th>\n",
              "      <td>1702</td>\n",
              "      <td>4.0</td>\n",
              "      <td>1</td>\n",
              "      <td>0</td>\n",
              "      <td>0</td>\n",
              "    </tr>\n",
              "    <tr>\n",
              "      <th>2</th>\n",
              "      <td>1687</td>\n",
              "      <td>1.0</td>\n",
              "      <td>0</td>\n",
              "      <td>0</td>\n",
              "      <td>6</td>\n",
              "    </tr>\n",
              "    <tr>\n",
              "      <th>3</th>\n",
              "      <td>1676</td>\n",
              "      <td>5.0</td>\n",
              "      <td>0</td>\n",
              "      <td>0</td>\n",
              "      <td>7</td>\n",
              "    </tr>\n",
              "    <tr>\n",
              "      <th>4</th>\n",
              "      <td>1672</td>\n",
              "      <td>5.0</td>\n",
              "      <td>1</td>\n",
              "      <td>0</td>\n",
              "      <td>7</td>\n",
              "    </tr>\n",
              "    <tr>\n",
              "      <th>5</th>\n",
              "      <td>1668</td>\n",
              "      <td>4.0</td>\n",
              "      <td>1</td>\n",
              "      <td>0</td>\n",
              "      <td>0</td>\n",
              "    </tr>\n",
              "    <tr>\n",
              "      <th>6</th>\n",
              "      <td>1672</td>\n",
              "      <td>7.0</td>\n",
              "      <td>1</td>\n",
              "      <td>0</td>\n",
              "      <td>7</td>\n",
              "    </tr>\n",
              "    <tr>\n",
              "      <th>7</th>\n",
              "      <td>1671</td>\n",
              "      <td>5.0</td>\n",
              "      <td>1</td>\n",
              "      <td>0</td>\n",
              "      <td>7</td>\n",
              "    </tr>\n",
              "    <tr>\n",
              "      <th>8</th>\n",
              "      <td>1663</td>\n",
              "      <td>4.0</td>\n",
              "      <td>1</td>\n",
              "      <td>0</td>\n",
              "      <td>0</td>\n",
              "    </tr>\n",
              "    <tr>\n",
              "      <th>9</th>\n",
              "      <td>1666</td>\n",
              "      <td>5.0</td>\n",
              "      <td>1</td>\n",
              "      <td>0</td>\n",
              "      <td>7</td>\n",
              "    </tr>\n",
              "  </tbody>\n",
              "</table>\n",
              "</div>"
            ],
            "text/plain": [
              "   Recency  Ages  Gender  Outcome  Cluster\n",
              "0     1701   4.0       0        0        0\n",
              "1     1702   4.0       1        0        0\n",
              "2     1687   1.0       0        0        6\n",
              "3     1676   5.0       0        0        7\n",
              "4     1672   5.0       1        0        7\n",
              "5     1668   4.0       1        0        0\n",
              "6     1672   7.0       1        0        7\n",
              "7     1671   5.0       1        0        7\n",
              "8     1663   4.0       1        0        0\n",
              "9     1666   5.0       1        0        7"
            ]
          },
          "execution_count": 14,
          "metadata": {},
          "output_type": "execute_result"
        }
      ],
      "source": [
        "from sklearn.cluster import KMeans\n",
        "\n",
        "model = KMeans(n_clusters=8, random_state=4321)\n",
        "model.fit(normalized_cases)\n",
        "case_df[\"Cluster\"] = model.fit_predict(norm_case_df)\n",
        "case_df.head(10)\n"
      ]
    },
    {
      "cell_type": "markdown",
      "metadata": {
        "id": "AXEWmEAYy6la"
      },
      "source": [
        "### 3. Analyze cluster sizes"
      ]
    },
    {
      "cell_type": "code",
      "execution_count": 15,
      "metadata": {
        "colab": {
          "base_uri": "https://localhost:8080/",
          "height": 332
        },
        "id": "_aIeiShCzDUG",
        "outputId": "631a6a43-ace2-413c-be22-dbb1e8861f77"
      },
      "outputs": [
        {
          "data": {
            "text/html": [
              "<div>\n",
              "<style scoped>\n",
              "    .dataframe tbody tr th:only-of-type {\n",
              "        vertical-align: middle;\n",
              "    }\n",
              "\n",
              "    .dataframe tbody tr th {\n",
              "        vertical-align: top;\n",
              "    }\n",
              "\n",
              "    .dataframe thead th {\n",
              "        text-align: right;\n",
              "    }\n",
              "</style>\n",
              "<table border=\"1\" class=\"dataframe\">\n",
              "  <thead>\n",
              "    <tr style=\"text-align: right;\">\n",
              "      <th></th>\n",
              "      <th>Recency</th>\n",
              "      <th>Ages</th>\n",
              "      <th>Gender</th>\n",
              "      <th>Outcome</th>\n",
              "    </tr>\n",
              "    <tr>\n",
              "      <th>Cluster</th>\n",
              "      <th></th>\n",
              "      <th></th>\n",
              "      <th></th>\n",
              "      <th></th>\n",
              "    </tr>\n",
              "  </thead>\n",
              "  <tbody>\n",
              "    <tr>\n",
              "      <th>0</th>\n",
              "      <td>49303</td>\n",
              "      <td>49303</td>\n",
              "      <td>49303</td>\n",
              "      <td>49303</td>\n",
              "    </tr>\n",
              "    <tr>\n",
              "      <th>1</th>\n",
              "      <td>68077</td>\n",
              "      <td>68077</td>\n",
              "      <td>68077</td>\n",
              "      <td>68077</td>\n",
              "    </tr>\n",
              "    <tr>\n",
              "      <th>2</th>\n",
              "      <td>39381</td>\n",
              "      <td>39381</td>\n",
              "      <td>39381</td>\n",
              "      <td>39381</td>\n",
              "    </tr>\n",
              "    <tr>\n",
              "      <th>3</th>\n",
              "      <td>71273</td>\n",
              "      <td>71273</td>\n",
              "      <td>71273</td>\n",
              "      <td>71273</td>\n",
              "    </tr>\n",
              "    <tr>\n",
              "      <th>4</th>\n",
              "      <td>30004</td>\n",
              "      <td>30004</td>\n",
              "      <td>30004</td>\n",
              "      <td>30004</td>\n",
              "    </tr>\n",
              "    <tr>\n",
              "      <th>5</th>\n",
              "      <td>50506</td>\n",
              "      <td>50506</td>\n",
              "      <td>50506</td>\n",
              "      <td>50506</td>\n",
              "    </tr>\n",
              "    <tr>\n",
              "      <th>6</th>\n",
              "      <td>59976</td>\n",
              "      <td>59976</td>\n",
              "      <td>59976</td>\n",
              "      <td>59976</td>\n",
              "    </tr>\n",
              "    <tr>\n",
              "      <th>7</th>\n",
              "      <td>32447</td>\n",
              "      <td>32447</td>\n",
              "      <td>32447</td>\n",
              "      <td>32447</td>\n",
              "    </tr>\n",
              "  </tbody>\n",
              "</table>\n",
              "</div>"
            ],
            "text/plain": [
              "         Recency   Ages  Gender  Outcome\n",
              "Cluster                                 \n",
              "0          49303  49303   49303    49303\n",
              "1          68077  68077   68077    68077\n",
              "2          39381  39381   39381    39381\n",
              "3          71273  71273   71273    71273\n",
              "4          30004  30004   30004    30004\n",
              "5          50506  50506   50506    50506\n",
              "6          59976  59976   59976    59976\n",
              "7          32447  32447   32447    32447"
            ]
          },
          "execution_count": 15,
          "metadata": {},
          "output_type": "execute_result"
        }
      ],
      "source": [
        "case_df.groupby(\"Cluster\").count()"
      ]
    },
    {
      "cell_type": "markdown",
      "metadata": {
        "id": "PICw36l7z2mz"
      },
      "source": [
        "### 4. Analyze RAGO Spread\n",
        "\n",
        "One way to gain intuition about the data, is to analyze the spread of the different parameters being analyzed; in our case, the four parameters are *Recency*, *Ages*, *Gender* and *Outcome* *(RAGO)*"
      ]
    },
    {
      "cell_type": "markdown",
      "metadata": {
        "id": "xk4LOU_Q0pxc"
      },
      "source": [
        "### 5. Plot distributions of the RAGO data"
      ]
    },
    {
      "cell_type": "code",
      "execution_count": 16,
      "metadata": {
        "colab": {
          "base_uri": "https://localhost:8080/",
          "height": 1000
        },
        "id": "pDNKf7SV00-c",
        "outputId": "53cc489c-d510-4f20-f212-5fbbbe2a560c"
      },
      "outputs": [
        {
          "data": {
            "image/png": "[encoded data removed]",
            "text/plain": [
              "<Figure size 640x480 with 1 Axes>"
            ]
          },
          "metadata": {},
          "output_type": "display_data"
        },
        {
          "data": {
            "image/png": "[encoded data removed]",
            "text/plain": [
              "<Figure size 640x480 with 1 Axes>"
            ]
          },
          "metadata": {},
          "output_type": "display_data"
        },
        {
          "data": {
            "image/png": "[encoded data removed]",
            "text/plain": [
              "<Figure size 640x480 with 1 Axes>"
            ]
          },
          "metadata": {},
          "output_type": "display_data"
        },
        {
          "data": {
            "image/png": "[encoded data removed]",
            "text/plain": [
              "<Figure size 640x480 with 1 Axes>"
            ]
          },
          "metadata": {},
          "output_type": "display_data"
        }
      ],
      "source": [
        "# Plot histograms of each field\n",
        "\n",
        "case_df['Recency'].hist()\n",
        "plt.title('Recency histogram')\n",
        "plt.show()\n",
        "\n",
        "case_df['Ages'].hist(bins=9)\n",
        "plt.title('Ages histogram')\n",
        "plt.show()\n",
        "\n",
        "case_df['Gender'].hist()\n",
        "plt.title('Gender histogram')\n",
        "plt.show()\n",
        "\n",
        "case_df['Outcome'].hist()\n",
        "plt.title('Outcome histogram')\n",
        "plt.show()"
      ]
    },
    {
      "cell_type": "markdown",
      "metadata": {
        "id": "m-lFGMJmV_qq"
      },
      "source": [
        "### 6. Elbow Plot\n",
        "\n",
        "Let's inspect an elbow plot for various cluster sizes:"
      ]
    },
    {
      "cell_type": "code",
      "execution_count": 17,
      "metadata": {
        "colab": {
          "base_uri": "https://localhost:8080/",
          "height": 472
        },
        "id": "sg9WSKFhWS24",
        "outputId": "9d79e2af-1dc7-44b3-d2dd-14e5c0d9a866"
      },
      "outputs": [
        {
          "data": {
            "image/png": "[encoded data removed]",
            "text/plain": [
              "<Figure size 640x480 with 1 Axes>"
            ]
          },
          "metadata": {},
          "output_type": "display_data"
        }
      ],
      "source": [
        "inertias = []\n",
        "for each in range(2, 15):\n",
        "    kmeans = KMeans(n_clusters = each, random_state=4321)\n",
        "    kmeans.fit(case_df[[\"Recency\", \"Ages\", \"Gender\", \"Outcome\"]])\n",
        "    inertias.append(kmeans.inertia_)\n",
        "\n",
        "plt.plot(range(2,15), inertias)\n",
        "plt.title(\"Elbow Plot\")\n",
        "plt.xlabel(\"Number of clusters\")\n",
        "plt.ylabel(\"Inertia\")\n",
        "plt.show()"
      ]
    },
    {
      "cell_type": "markdown",
      "metadata": {
        "id": "UQVzU3WUW0fG"
      },
      "source": [
        "The elbows at 5 and 7 clusters seem like good choices: a balance of low inertia and (relative) low complexity (ie number of clusters)"
      ]
    },
    {
      "cell_type": "markdown",
      "metadata": {
        "id": "pZ-8XRUkpRZy"
      },
      "source": [
        "### 7. Build the Model\n",
        "\n",
        "Build two more models: one with 5 clusters, one with 7 clusters:"
      ]
    },
    {
      "cell_type": "code",
      "execution_count": 18,
      "metadata": {
        "colab": {
          "base_uri": "https://localhost:8080/",
          "height": 206
        },
        "id": "k_DtI-FXpUpl",
        "outputId": "8e50375c-6b0b-4d42-a011-eb91425dc5f0"
      },
      "outputs": [
        {
          "data": {
            "text/html": [
              "<div>\n",
              "<style scoped>\n",
              "    .dataframe tbody tr th:only-of-type {\n",
              "        vertical-align: middle;\n",
              "    }\n",
              "\n",
              "    .dataframe tbody tr th {\n",
              "        vertical-align: top;\n",
              "    }\n",
              "\n",
              "    .dataframe thead th {\n",
              "        text-align: right;\n",
              "    }\n",
              "</style>\n",
              "<table border=\"1\" class=\"dataframe\">\n",
              "  <thead>\n",
              "    <tr style=\"text-align: right;\">\n",
              "      <th></th>\n",
              "      <th>Recency</th>\n",
              "      <th>Ages</th>\n",
              "      <th>Gender</th>\n",
              "      <th>Outcome</th>\n",
              "      <th>Cluster</th>\n",
              "      <th>Cluster5</th>\n",
              "      <th>Cluster7</th>\n",
              "    </tr>\n",
              "  </thead>\n",
              "  <tbody>\n",
              "    <tr>\n",
              "      <th>0</th>\n",
              "      <td>1701</td>\n",
              "      <td>4.0</td>\n",
              "      <td>0</td>\n",
              "      <td>0</td>\n",
              "      <td>0</td>\n",
              "      <td>0</td>\n",
              "      <td>0</td>\n",
              "    </tr>\n",
              "    <tr>\n",
              "      <th>1</th>\n",
              "      <td>1702</td>\n",
              "      <td>4.0</td>\n",
              "      <td>1</td>\n",
              "      <td>0</td>\n",
              "      <td>0</td>\n",
              "      <td>0</td>\n",
              "      <td>0</td>\n",
              "    </tr>\n",
              "    <tr>\n",
              "      <th>2</th>\n",
              "      <td>1687</td>\n",
              "      <td>1.0</td>\n",
              "      <td>0</td>\n",
              "      <td>0</td>\n",
              "      <td>6</td>\n",
              "      <td>0</td>\n",
              "      <td>6</td>\n",
              "    </tr>\n",
              "    <tr>\n",
              "      <th>3</th>\n",
              "      <td>1676</td>\n",
              "      <td>5.0</td>\n",
              "      <td>0</td>\n",
              "      <td>0</td>\n",
              "      <td>7</td>\n",
              "      <td>0</td>\n",
              "      <td>0</td>\n",
              "    </tr>\n",
              "    <tr>\n",
              "      <th>4</th>\n",
              "      <td>1672</td>\n",
              "      <td>5.0</td>\n",
              "      <td>1</td>\n",
              "      <td>0</td>\n",
              "      <td>7</td>\n",
              "      <td>0</td>\n",
              "      <td>0</td>\n",
              "    </tr>\n",
              "  </tbody>\n",
              "</table>\n",
              "</div>"
            ],
            "text/plain": [
              "   Recency  Ages  Gender  Outcome  Cluster  Cluster5  Cluster7\n",
              "0     1701   4.0       0        0        0         0         0\n",
              "1     1702   4.0       1        0        0         0         0\n",
              "2     1687   1.0       0        0        6         0         6\n",
              "3     1676   5.0       0        0        7         0         0\n",
              "4     1672   5.0       1        0        7         0         0"
            ]
          },
          "execution_count": 18,
          "metadata": {},
          "output_type": "execute_result"
        }
      ],
      "source": [
        "kmeans5_model = KMeans(n_clusters = 5, random_state=4321)\n",
        "kmeans7_model = KMeans(n_clusters = 7, random_state=4321)\n",
        "\n",
        "case_df[\"Cluster5\"] = kmeans5_model.fit_predict(normalized_cases)\n",
        "case_df[\"Cluster7\"] = kmeans7_model.fit_predict(normalized_cases)\n",
        "\n",
        "case_df.head()"
      ]
    },
    {
      "cell_type": "markdown",
      "metadata": {
        "id": "kJGvl3OArTFH"
      },
      "source": [
        "Cluster 5 counts:"
      ]
    },
    {
      "cell_type": "code",
      "execution_count": 19,
      "metadata": {
        "colab": {
          "base_uri": "https://localhost:8080/",
          "height": 272
        },
        "id": "LXDkEaozrWBl",
        "outputId": "080b6c51-a61a-46ea-d427-fbd4892e93bd"
      },
      "outputs": [
        {
          "data": {
            "text/plain": [
              "Cluster5\n",
              "0     79783\n",
              "1    166027\n",
              "2     40803\n",
              "3     87782\n",
              "4     26572\n",
              "Name: Cluster5, dtype: int64"
            ]
          },
          "execution_count": 19,
          "metadata": {},
          "output_type": "execute_result"
        }
      ],
      "source": [
        "case_df.groupby(\"Cluster5\")[\"Cluster5\"].count()"
      ]
    },
    {
      "cell_type": "markdown",
      "metadata": {
        "id": "fUnjEQ9creY3"
      },
      "source": [
        "Cluster 7 counts:"
      ]
    },
    {
      "cell_type": "code",
      "execution_count": 20,
      "metadata": {
        "colab": {
          "base_uri": "https://localhost:8080/",
          "height": 335
        },
        "id": "lHAQMVRerh-R",
        "outputId": "d4ab6ecc-9b6e-40ae-8b8f-8d7503f2ead5"
      },
      "outputs": [
        {
          "data": {
            "text/plain": [
              "Cluster7\n",
              "0    63910\n",
              "1    72651\n",
              "2    34541\n",
              "3    50853\n",
              "4    22009\n",
              "5    68304\n",
              "6    88699\n",
              "Name: Cluster7, dtype: int64"
            ]
          },
          "execution_count": 20,
          "metadata": {},
          "output_type": "execute_result"
        }
      ],
      "source": [
        "case_df.groupby(\"Cluster7\")[\"Cluster7\"].count()"
      ]
    },
    {
      "cell_type": "markdown",
      "metadata": {
        "id": "U27SNlo3p0NV"
      },
      "source": [
        "Now let's compare how drastic it would be to move from 5 clusters to 7 clusters:"
      ]
    },
    {
      "cell_type": "code",
      "execution_count": 21,
      "metadata": {
        "colab": {
          "base_uri": "https://localhost:8080/",
          "height": 238
        },
        "id": "Y1KLoYJMpzrF",
        "outputId": "7e322644-93c3-47b4-dc0d-7d2564e0bb95"
      },
      "outputs": [
        {
          "data": {
            "text/html": [
              "<style type=\"text/css\">\n",
              "#T_8b546_row0_col0, #T_8b546_row1_col6, #T_8b546_row2_col2, #T_8b546_row3_col1, #T_8b546_row4_col4 {\n",
              "  background-color: #08306b;\n",
              "  color: #f1f1f1;\n",
              "}\n",
              "#T_8b546_row0_col1 {\n",
              "  background-color: #f6faff;\n",
              "  color: #000000;\n",
              "}\n",
              "#T_8b546_row0_col2, #T_8b546_row0_col3, #T_8b546_row0_col4, #T_8b546_row0_col5, #T_8b546_row1_col0, #T_8b546_row1_col2, #T_8b546_row1_col3, #T_8b546_row1_col4, #T_8b546_row2_col0, #T_8b546_row2_col1, #T_8b546_row2_col4, #T_8b546_row2_col5, #T_8b546_row2_col6, #T_8b546_row3_col0, #T_8b546_row3_col2, #T_8b546_row3_col4, #T_8b546_row3_col6, #T_8b546_row4_col0, #T_8b546_row4_col1, #T_8b546_row4_col5, #T_8b546_row4_col6 {\n",
              "  background-color: #f7fbff;\n",
              "  color: #000000;\n",
              "}\n",
              "#T_8b546_row0_col6 {\n",
              "  background-color: #c7dcef;\n",
              "  color: #000000;\n",
              "}\n",
              "#T_8b546_row1_col1 {\n",
              "  background-color: #a6cee4;\n",
              "  color: #000000;\n",
              "}\n",
              "#T_8b546_row1_col5 {\n",
              "  background-color: #08468b;\n",
              "  color: #f1f1f1;\n",
              "}\n",
              "#T_8b546_row2_col3 {\n",
              "  background-color: #d2e3f3;\n",
              "  color: #000000;\n",
              "}\n",
              "#T_8b546_row3_col3 {\n",
              "  background-color: #0a549e;\n",
              "  color: #f1f1f1;\n",
              "}\n",
              "#T_8b546_row3_col5 {\n",
              "  background-color: #f2f8fd;\n",
              "  color: #000000;\n",
              "}\n",
              "#T_8b546_row4_col2 {\n",
              "  background-color: #f5fafe;\n",
              "  color: #000000;\n",
              "}\n",
              "#T_8b546_row4_col3 {\n",
              "  background-color: #d0e2f2;\n",
              "  color: #000000;\n",
              "}\n",
              "</style>\n",
              "<table id=\"T_8b546\">\n",
              "  <thead>\n",
              "    <tr>\n",
              "      <th class=\"index_name level0\" >Cluster7</th>\n",
              "      <th id=\"T_8b546_level0_col0\" class=\"col_heading level0 col0\" >0</th>\n",
              "      <th id=\"T_8b546_level0_col1\" class=\"col_heading level0 col1\" >1</th>\n",
              "      <th id=\"T_8b546_level0_col2\" class=\"col_heading level0 col2\" >2</th>\n",
              "      <th id=\"T_8b546_level0_col3\" class=\"col_heading level0 col3\" >3</th>\n",
              "      <th id=\"T_8b546_level0_col4\" class=\"col_heading level0 col4\" >4</th>\n",
              "      <th id=\"T_8b546_level0_col5\" class=\"col_heading level0 col5\" >5</th>\n",
              "      <th id=\"T_8b546_level0_col6\" class=\"col_heading level0 col6\" >6</th>\n",
              "    </tr>\n",
              "    <tr>\n",
              "      <th class=\"index_name level0\" >Cluster5</th>\n",
              "      <th class=\"blank col0\" >&nbsp;</th>\n",
              "      <th class=\"blank col1\" >&nbsp;</th>\n",
              "      <th class=\"blank col2\" >&nbsp;</th>\n",
              "      <th class=\"blank col3\" >&nbsp;</th>\n",
              "      <th class=\"blank col4\" >&nbsp;</th>\n",
              "      <th class=\"blank col5\" >&nbsp;</th>\n",
              "      <th class=\"blank col6\" >&nbsp;</th>\n",
              "    </tr>\n",
              "  </thead>\n",
              "  <tbody>\n",
              "    <tr>\n",
              "      <th id=\"T_8b546_level0_row0\" class=\"row_heading level0 row0\" >0</th>\n",
              "      <td id=\"T_8b546_row0_col0\" class=\"data row0 col0\" >63797</td>\n",
              "      <td id=\"T_8b546_row0_col1\" class=\"data row0 col1\" >448</td>\n",
              "      <td id=\"T_8b546_row0_col2\" class=\"data row0 col2\" >0</td>\n",
              "      <td id=\"T_8b546_row0_col3\" class=\"data row0 col3\" >1</td>\n",
              "      <td id=\"T_8b546_row0_col4\" class=\"data row0 col4\" >0</td>\n",
              "      <td id=\"T_8b546_row0_col5\" class=\"data row0 col5\" >0</td>\n",
              "      <td id=\"T_8b546_row0_col6\" class=\"data row0 col6\" >15537</td>\n",
              "    </tr>\n",
              "    <tr>\n",
              "      <th id=\"T_8b546_level0_row1\" class=\"row_heading level0 row1\" >1</th>\n",
              "      <td id=\"T_8b546_row1_col0\" class=\"data row1 col0\" >0</td>\n",
              "      <td id=\"T_8b546_row1_col1\" class=\"data row1 col1\" >25710</td>\n",
              "      <td id=\"T_8b546_row1_col2\" class=\"data row1 col2\" >0</td>\n",
              "      <td id=\"T_8b546_row1_col3\" class=\"data row1 col3\" >0</td>\n",
              "      <td id=\"T_8b546_row1_col4\" class=\"data row1 col4\" >0</td>\n",
              "      <td id=\"T_8b546_row1_col5\" class=\"data row1 col5\" >67155</td>\n",
              "      <td id=\"T_8b546_row1_col6\" class=\"data row1 col6\" >73162</td>\n",
              "    </tr>\n",
              "    <tr>\n",
              "      <th id=\"T_8b546_level0_row2\" class=\"row_heading level0 row2\" >2</th>\n",
              "      <td id=\"T_8b546_row2_col0\" class=\"data row2 col0\" >0</td>\n",
              "      <td id=\"T_8b546_row2_col1\" class=\"data row2 col1\" >0</td>\n",
              "      <td id=\"T_8b546_row2_col2\" class=\"data row2 col2\" >34341</td>\n",
              "      <td id=\"T_8b546_row2_col3\" class=\"data row2 col3\" >6462</td>\n",
              "      <td id=\"T_8b546_row2_col4\" class=\"data row2 col4\" >0</td>\n",
              "      <td id=\"T_8b546_row2_col5\" class=\"data row2 col5\" >0</td>\n",
              "      <td id=\"T_8b546_row2_col6\" class=\"data row2 col6\" >0</td>\n",
              "    </tr>\n",
              "    <tr>\n",
              "      <th id=\"T_8b546_level0_row3\" class=\"row_heading level0 row3\" >3</th>\n",
              "      <td id=\"T_8b546_row3_col0\" class=\"data row3 col0\" >97</td>\n",
              "      <td id=\"T_8b546_row3_col1\" class=\"data row3 col1\" >46493</td>\n",
              "      <td id=\"T_8b546_row3_col2\" class=\"data row3 col2\" >0</td>\n",
              "      <td id=\"T_8b546_row3_col3\" class=\"data row3 col3\" >40043</td>\n",
              "      <td id=\"T_8b546_row3_col4\" class=\"data row3 col4\" >0</td>\n",
              "      <td id=\"T_8b546_row3_col5\" class=\"data row3 col5\" >1149</td>\n",
              "      <td id=\"T_8b546_row3_col6\" class=\"data row3 col6\" >0</td>\n",
              "    </tr>\n",
              "    <tr>\n",
              "      <th id=\"T_8b546_level0_row4\" class=\"row_heading level0 row4\" >4</th>\n",
              "      <td id=\"T_8b546_row4_col0\" class=\"data row4 col0\" >16</td>\n",
              "      <td id=\"T_8b546_row4_col1\" class=\"data row4 col1\" >0</td>\n",
              "      <td id=\"T_8b546_row4_col2\" class=\"data row4 col2\" >200</td>\n",
              "      <td id=\"T_8b546_row4_col3\" class=\"data row4 col3\" >4347</td>\n",
              "      <td id=\"T_8b546_row4_col4\" class=\"data row4 col4\" >22009</td>\n",
              "      <td id=\"T_8b546_row4_col5\" class=\"data row4 col5\" >0</td>\n",
              "      <td id=\"T_8b546_row4_col6\" class=\"data row4 col6\" >0</td>\n",
              "    </tr>\n",
              "  </tbody>\n",
              "</table>\n"
            ],
            "text/plain": [
              "<pandas.io.formats.style.Styler at 0x718a6f72da00>"
            ]
          },
          "execution_count": 21,
          "metadata": {},
          "output_type": "execute_result"
        }
      ],
      "source": [
        "# NBVAL_IGNORE_OUTPUT\n",
        "\n",
        "pd.crosstab(case_df[\"Cluster5\"], case_df[\"Cluster7\"]).style.background_gradient(axis=1, cmap=\"Blues\")"
      ]
    },
    {
      "cell_type": "markdown",
      "metadata": {
        "id": "uVdoSnPdqOUf"
      },
      "source": [
        "Looks like:\n",
        "\n",
        "* Cluster 0 would be (more or less) split evenly into two clusters (3 and 5)\n",
        "* Cluster 1 would remain (mostly) unchanged (as cluster 6)\n",
        "* Cluster 2 would be split (mostly) into two clusters (3 and 4)\n",
        "* Cluster 3 would remain (mostly) unchanged (as cluster 0), with a bit going into cluster 2\n",
        "* Cluster 4 would be split (mostly) into two clusters (1 and 2)\n",
        "\n"
      ]
    },
    {
      "cell_type": "markdown",
      "metadata": {
        "id": "lcLY4PBMtGaX"
      },
      "source": [
        "### 8. Analyze the Model\n",
        "\n",
        "Since the 7 cluster model isn't drastically different, we'll use 5 clusters for model analysis.\n",
        "\n",
        "Start by constructing a decision tree for the given cluster:"
      ]
    },
    {
      "cell_type": "code",
      "execution_count": 23,
      "metadata": {
        "colab": {
          "base_uri": "https://localhost:8080/",
          "height": 499
        },
        "id": "nPFaYvRqt2Kz",
        "outputId": "b68e3eb9-752e-4979-bea6-dfbf973f94ba"
      },
      "outputs": [
        {
          "data": {
            "text/plain": [
              "[Text(0.4, 0.8333333333333334, 'x[1] <= 2.5\\ngini = 0.726\\nsamples = 400967\\nvalue = [79783, 166027, 40803, 87782, 26572]'),\n",
              " Text(0.2, 0.5, 'gini = 0.287\\nsamples = 198552\\nvalue = [15537, 166027, 0, 16988, 0]'),\n",
              " Text(0.30000000000000004, 0.6666666666666667, 'True  '),\n",
              " Text(0.6, 0.5, 'x[0] <= 1110.5\\ngini = 0.719\\nsamples = 202415\\nvalue = [64246.0, 0.0, 40803.0, 70794.0, 26572.0]'),\n",
              " Text(0.5, 0.6666666666666667, '  False'),\n",
              " Text(0.4, 0.16666666666666666, 'gini = 0.537\\nsamples = 120753\\nvalue = [42, 0, 40803, 70741, 9167]'),\n",
              " Text(0.8, 0.16666666666666666, 'gini = 0.336\\nsamples = 81662\\nvalue = [64204, 0, 0, 53, 17405]')]"
            ]
          },
          "execution_count": 23,
          "metadata": {},
          "output_type": "execute_result"
        },
        {
          "data": {
            "image/png": "[encoded data removed]",
            "text/plain": [
              "<Figure size 1300x600 with 1 Axes>"
            ]
          },
          "metadata": {},
          "output_type": "display_data"
        }
      ],
      "source": [
        "from sklearn.tree import DecisionTreeClassifier, plot_tree\n",
        "\n",
        "tree_model = DecisionTreeClassifier(min_impurity_decrease=0.1, random_state=4321)\n",
        "tree_model.fit(case_df[[\"Recency\", \"Ages\", \"Gender\", \"Outcome\"]], case_df[\"Cluster5\"])\n",
        "\n",
        "plt.figure(figsize=(13,6))\n",
        "plot_tree(tree_model, fontsize=7)"
      ]
    },
    {
      "cell_type": "markdown",
      "metadata": {
        "id": "noDh8jPLv57r"
      },
      "source": [
        "From the tree, we can see:\n",
        "\n",
        "* Cluster 1 (109,091): cases within the last 3 years, patients under 40 years of age\n",
        "* Cluster 2 (73,519): cases within the last 3 years, patients between 40 and 70 years of age\n",
        "* Cluster 3 (43,702): cases within the last 3 years, patients over 70 years of age\n",
        "* Cluster 4 (112,325): cases older than 3 years, patients under 50 years of age\n",
        "* Cluster 5 (55,977): cases older than 3 years, patients over 50 years of age\n",
        "\n"
      ]
    },
    {
      "cell_type": "markdown",
      "metadata": {
        "id": "CkkAW6fdDaA3"
      },
      "source": [
        "## Conclusion"
      ]
    },
    {
      "cell_type": "markdown",
      "metadata": {
        "id": "bAXuvypQ1a8N"
      },
      "source": [
        "*Recency* is the most suitable metric to initially split the data, using a decision boundary of about 3 years.  Then *Ages* becomes more useful for grouping patients, using decision boundaries approximately of 40, 70 and 50"
      ]
    }
  ],
  "metadata": {
    "colab": {
      "authorship_tag": "ABX9TyNcVXrTUfbfdP5Cjwdn/TtT",
      "include_colab_link": true,
      "provenance": []
    },
    "kernelspec": {
      "display_name": "Python 3",
      "name": "python3"
    },
    "language_info": {
      "codemirror_mode": {
        "name": "ipython",
        "version": 3
      },
      "file_extension": ".py",
      "mimetype": "text/x-python",
      "name": "python",
      "nbconvert_exporter": "python",
      "pygments_lexer": "ipython3",
      "version": "3.12.1"
    }
  },
  "nbformat": 4,
  "nbformat_minor": 0
}
